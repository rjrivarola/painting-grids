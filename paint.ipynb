{
 "cells": [
  {
   "cell_type": "markdown",
   "id": "3fcd6fc5",
   "metadata": {},
   "source": [
    "### Painting grids"
   ]
  },
  {
   "cell_type": "code",
   "execution_count": 2,
   "id": "0940f5ed",
   "metadata": {},
   "outputs": [
    {
     "name": "stderr",
     "output_type": "stream",
     "text": [
      "/home/rjrivarola/.local/lib/python3.10/site-packages/matplotlib/projections/__init__.py:63: UserWarning: Unable to import Axes3D. This may be due to multiple versions of Matplotlib being installed (e.g. as a system package and as a pip package). As a result, the 3D projection is not available.\n",
      "  warnings.warn(\"Unable to import Axes3D. This may be due to multiple versions of \"\n"
     ]
    }
   ],
   "source": [
    "import matplotlib.pyplot as plt\n",
    "import matplotlib.colors as mcolors\n",
    "import numpy as np\n",
    "import random\n",
    "import time\n",
    "from IPython.display import display, clear_output"
   ]
  },
  {
   "cell_type": "markdown",
   "id": "d3b64f83",
   "metadata": {},
   "source": [
    "### Settings"
   ]
  },
  {
   "cell_type": "code",
   "execution_count": null,
   "id": "1dc3711e",
   "metadata": {},
   "outputs": [],
   "source": [
    "# Grid size\n",
    "ROWS, COLS = 10, 10\n",
    "\n",
    "def get_gradient(rgb1=(63, 0, 0), rgb2=(198, 0, 0), steps=20):\n",
    "    \"\"\"\n",
    "    Creates a gradient between two colors. Default is light and dark red\n",
    "    Input:\n",
    "        rgb1 (tuple): start color in RGB format\n",
    "        rgb2 (tuple): end color in RGB format\n",
    "    \"\"\"\n",
    "    rgb1_1, rgb1_2, rgb1_3 = rgb1\n",
    "    rgb2_1, rgb2_2, rgb2_3 = rgb2\n",
    "    # Start and end colors (RBG)\n",
    "    start_color = np.array([rgb1_1, rgb1_2, rgb1_3]) / 255\n",
    "    end_color = np.array([rgb2_1, rgb2_2, rgb2_3]) / 255\n",
    "\n",
    "    # Generate a gradient from start to end color\n",
    "    return [start_color + (end_color - start_color) * i / (steps - 1) for i in range(steps)]\n",
    "\n",
    "# generate color gradient\n",
    "gradient_colors = get_gradient()"
   ]
  },
  {
   "cell_type": "markdown",
   "id": "168a6082",
   "metadata": {},
   "source": [
    "### Row by row"
   ]
  },
  {
   "cell_type": "code",
   "execution_count": 33,
   "id": "cd7c8150",
   "metadata": {},
   "outputs": [
    {
     "data": {
      "image/png": "[encoded data removed]",
      "text/plain": [
       "<Figure size 432x288 with 1 Axes>"
      ]
     },
     "metadata": {},
     "output_type": "display_data"
    },
    {
     "name": "stdout",
     "output_type": "stream",
     "text": [
      "The gradient was inverted 1 times\n"
     ]
    }
   ],
   "source": [
    "# Initialize grid to white\n",
    "grid = np.ones((ROWS, COLS, 3))\n",
    "\n",
    "# Cell-by-cell painting\n",
    "cell_position = 0\n",
    "n_reversed = 0\n",
    "for i in range(ROWS):\n",
    "    for j in range(COLS):\n",
    "        # Randomly choose color from gradient, always start with start_color\n",
    "        if i == 0 and j == 0:\n",
    "            color = gradient_colors[0]\n",
    "        # Jump back and forth in the color gradient\n",
    "        else:\n",
    "            x = random.uniform(0, 1)\n",
    "            if x < 0.25:\n",
    "                cell_position += -3\n",
    "            elif x < 0.50:\n",
    "                cell_position += -2\n",
    "            elif x < 0.75:\n",
    "                cell_position += 2\n",
    "            else:\n",
    "                cell_position += 3\n",
    "            # Invert gradient when you get to the end/start of the list\n",
    "            if (cell_position > (len(gradient_colors) - 1) or (cell_position < -len(gradient_colors))):\n",
    "                reversed = gradient_colors[::-1]\n",
    "                gradient_colors = reversed\n",
    "                cell_position = 1\n",
    "                n_reversed += 1\n",
    "            color = gradient_colors[cell_position]\n",
    "\n",
    "        # Paint cell\n",
    "        grid[i, j] = color\n",
    "\n",
    "        # Clear and replot\n",
    "        clear_output(wait=True)\n",
    "        fig, ax = plt.subplots()\n",
    "        ax.imshow(grid, interpolation='none')\n",
    "        plt.tick_params(left=False, bottom=False, labelleft=False, labelbottom=False)\n",
    "        display(fig)\n",
    "        plt.close(fig)\n",
    "print(f\"The gradient was inverted {n_reversed} times\")"
   ]
  },
  {
   "cell_type": "markdown",
   "id": "690345a3",
   "metadata": {},
   "source": [
    "### Random move pattern"
   ]
  },
  {
   "cell_type": "code",
   "execution_count": 37,
   "id": "7762b538",
   "metadata": {},
   "outputs": [
    {
     "data": {
      "image/png": "[encoded data removed]",
      "text/plain": [
       "<Figure size 432x288 with 1 Axes>"
      ]
     },
     "metadata": {},
     "output_type": "display_data"
    },
    {
     "name": "stdout",
     "output_type": "stream",
     "text": [
      "The gradient was inverted 2 times\n"
     ]
    }
   ],
   "source": [
    "# Initialize grid to white\n",
    "grid = np.ones((ROWS, COLS, 3))\n",
    "visited = np.zeros((ROWS, COLS), dtype=bool) # track painted cells\n",
    "\n",
    "# Counting variables\n",
    "i, j = 0, 0 # current position\n",
    "cell_position = 0\n",
    "n_reversed = 0\n",
    "step_count = 0\n",
    "prev_move = None\n",
    "dirs = {'R': (0, 1), 'L': (0, -1), 'U': (-1, 0), 'D': (1, 0)}\n",
    "opposite = {'R': 'L', 'L': 'R', 'U': 'D', 'D': 'U'}\n",
    "\n",
    "# Choose colors\n",
    "while True:\n",
    "    if step_count == 0:\n",
    "        color = gradient_colors[0]\n",
    "    else:\n",
    "        x = random.uniform(0, 1)\n",
    "        if x < 0.25:\n",
    "            cell_position += -3\n",
    "        elif x < 0.50:\n",
    "            cell_position += -2\n",
    "        elif x < 0.75:\n",
    "            cell_position += 2\n",
    "        else:\n",
    "            cell_position += 3\n",
    "\n",
    "        # Invert gradient if we step beyond either end (keeping your original logic)\n",
    "        if (cell_position > (len(gradient_colors) - 1)) or (cell_position < -len(gradient_colors)):\n",
    "            gradient_colors = gradient_colors[::-1]\n",
    "            cell_position = 1 # restart with second color\n",
    "            n_reversed += 1\n",
    "\n",
    "        color = gradient_colors[cell_position]\n",
    "\n",
    "    # Paint cell\n",
    "    grid[i, j] = color\n",
    "    visited[i, j] = True\n",
    "\n",
    "    # live display of the grid\n",
    "    clear_output(wait=True)\n",
    "    fig, ax = plt.subplots()\n",
    "    ax.imshow(grid, interpolation='none')\n",
    "    plt.tick_params(left=False, bottom=False, labelleft=False, labelbottom=False)\n",
    "    display(fig)\n",
    "    plt.close(fig)\n",
    "\n",
    "    # stop condition: reached bottom-right\n",
    "    #if i == ROWS - 1 and j == COLS - 1:\n",
    "    #    break\n",
    "    \n",
    "    # random move pattern (R, L, U, D)\n",
    "    if prev_move is None:\n",
    "        candidates = list(dirs.keys())\n",
    "    else:\n",
    "        candidates = [d for d in dirs if d != opposite[prev_move]]\n",
    "\n",
    "    random.shuffle(candidates)  # randomize trial order\n",
    "\n",
    "    moved = False\n",
    "    for d in candidates:\n",
    "        di, dj = dirs[d]\n",
    "        ni = (i + di) % ROWS  # wrap vertically\n",
    "        nj = (j + dj) % COLS  # wrap horizontally\n",
    "        # only move into unpainted cells\n",
    "        if not visited[ni, nj]:\n",
    "            i, j = ni, nj\n",
    "            prev_move = d\n",
    "            step_count += 1\n",
    "            moved = True\n",
    "            break\n",
    "\n",
    "    # stop condition: all non-opposites are painted\n",
    "    if not moved:\n",
    "        break\n",
    "\n",
    "print(f\"The gradient was inverted {n_reversed} times\")"
   ]
  }
 ],
 "metadata": {
  "kernelspec": {
   "display_name": "Python 3",
   "language": "python",
   "name": "python3"
  },
  "language_info": {
   "codemirror_mode": {
    "name": "ipython",
    "version": 3
   },
   "file_extension": ".py",
   "mimetype": "text/x-python",
   "name": "python",
   "nbconvert_exporter": "python",
   "pygments_lexer": "ipython3",
   "version": "3.10.12"
  }
 },
 "nbformat": 4,
 "nbformat_minor": 5
}
